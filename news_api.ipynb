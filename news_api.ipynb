{
 "cells": [
  {
   "cell_type": "code",
   "execution_count": 2,
   "metadata": {},
   "outputs": [
    {
     "name": "stdout",
     "output_type": "stream",
     "text": [
      "{'status': 'ok', 'totalResults': 34, 'articles': [{'source': {'id': None, 'name': 'YouTube'}, 'author': None, 'title': '외환시장 새벽 2시까지 열린다...간이과세 금액 상향 / YTN - YTN', 'description': '[앵커]내일(1일)부터 외환시장 거래시간이 다음 날 새벽 2시까지로 연장됩니다.간이과세 기준 금액은 1억4백만 원으로 상향됩니다.최두희 기자가 정리했습니다.[기자]오전 9시부터 오후 3시 반까지인 외환시장의 원/달러 거래시간이 7월 1일부터는 새벽 2시까지 연장됩니다.국내외 투자자...', 'url': 'https://www.youtube.com/watch?v=RJhxrR112So', 'urlToImage': 'https://i.ytimg.com/vi/RJhxrR112So/maxresdefault.jpg', 'publishedAt': '2024-06-30T08:17:03Z', 'content': None}, {'source': {'id': None, 'name': 'Jjn.co.kr'}, 'author': '전북중앙', 'title': '\"나에게 맞는 색깔을 찾아보자\" < 열린마당 < 오피니언 < 기사본문 - 전북중앙신문', 'description': '식물은 자외선으로부터 보호하기 위해 자신만의 화학물질을 만들어 낸다. 이것이 과일이나 채소의 색깔을 결정짓는 색소다. 고유 색소는 곰팡이 바이러스등과 싸우는 무기인 셈이다. 식물의 색소는 일조량이 많을수록 짙어지고 일교차가 클수록 더 선명해진다. 햇볕을 많이 받은 오이가 진녹색에 가깝고 볕을 많이 쪼인 사과가 더 붉다. 주변의 환경이 가혹할수록 더 많은 화학물질을 만들어낸다는 것이다. 이 화학물질은 ‘파이토-케미컬(phyto-chemical)’이다. 식물을 뜻…', 'url': 'http://www.jjn.co.kr/news/articleView.html?idxno=976024', 'urlToImage': 'https://cdn.jjn.co.kr/news/thumbnail/202406/976024_231791_318_v150.jpg', 'publishedAt': '2024-06-30T08:03:21Z', 'content': 'webmaster@jjn.co.kr\\r\\n() () URL() \\r\\n/ \\r\\n. . . .\\xa0\\r\\n . .\\xa0\\r\\n ‘-(phyto-chemical)’. , .\\r\\n- , . , , , , , , , ‘’ .\\r\\n . , .\\xa0\\r\\n . , . .\\xa0\\r\\n . , .\\xa0\\r\\n . . , , . ‘’ .\\xa0\\r\\n‘’ , , .\\xa0\\r\\n , , . 12 . , , , , . .\\r\\n .\\xa0\\r\\n, … [+138 chars]'}, {'source': {'id': None, 'name': 'Chosun.com'}, 'author': '조선일보', 'title': \"박철, 신내림 루머→전처 옥소리 이혼史 고백..'가보자고' 첫 방송 제대로 터졌다 - 조선일보\", 'description': '박철, 신내림 루머→전처 옥소리 이혼史 고백..가보자고 첫 방송 제대로 터졌다', 'url': 'https://www.chosun.com/entertainments/broadcast/2024/06/30/ZB7YCUULT6EVSGCWEVP4H3UYOU/', 'urlToImage': 'https://images.chosun.com/resizer/HQnXdZQG5umBOov7ilua7FYmd1w=/700x367/smart/cloudfront-ap-northeast-1.images.arcpublishing.com/chosun/3KXKGSZHPCYEK6UYPKXZ7DBWR4.jpg', 'publishedAt': '2024-06-30T08:03:00Z', 'content': None}, {'source': {'id': None, 'name': 'Imbc.com'}, 'author': '백승우', 'title': \"'김만배 돈거래' 전직 언론사 간부 충북 야산에서 숨진 채 발견 - MBC 뉴스\", 'description': '대장동 개발사업 민간업자 김만배 씨와 돈거래를 한 혐의를 받던 전 한국일보 간부, 56살 김 모씨가 숨진 채 발견됐습니다. 어제 오후 가족들의 실종신고를 접수한 경찰은 휴대전화 위...', 'url': 'https://imnews.imbc.com/news/2024/society/article/6612736_36438.html', 'urlToImage': 'https://image.imnews.imbc.com/news/2024/society/article/__icsFiles/afieldfile/2024/06/30/p240630-10.jpg', 'publishedAt': '2024-06-30T07:34:20Z', 'content': ''}, {'source': {'id': None, 'name': 'Classian.co.kr'}, 'author': '이현승 기자 classian.korea@gmail.com', 'title': '비즈니스북스, ‘나는 주말마다 10억 버는 비즈니스를 한다’ 출간 - 클래시안 (Classian)', 'description': '비즈니스북스가 글로벌 상위 1% 혁신가들이 극찬한 기적의 사업 설계 기술을 담은 ‘나는 주말마다 10억 버는 비즈니스를 한다’를 출간했다.하루아침에 잘나가는 기업에서 해고 당한 청년이 절치부심 끝에 100만달러짜리 비즈니스를 여덟 개나 성공시켰다면? 게다가 이 모든 게 주말 48시간만 초집중 투자해서 만들어낸 결과라면? 이는 전 세계 1인 기업가와 마케터, 크리에이터들에게 사랑받는 소프트웨어 마켓플레이스 ‘앱스모’(Appsumo)의 창업자이자 CEO인 노아 케…', 'url': 'http://classian.co.kr/View.aspx?No=3284529', 'urlToImage': 'http://classian.co.kr/Files/212/News/202406/3795_20240630142833938.JPG', 'publishedAt': '2024-06-30T07:29:15Z', 'content': '1% ‘ 10 ’ .\\r\\n100 ? 48 ? 1 , ‘’(Appsumo) CEO .\\r\\n ‘ ’ ‘’ , ‘ 10 ’ .\\r\\n , . , . . ‘ ’, ‘ ’, ‘ ’, ‘ ’ , .\\r\\n ‘ 10 ’ 48 . 1 ‘ ’ . 2 . 3 , . .\\r\\n \" , ? ? . . ‘ ’, CEO \" .\\r\\n . classian.korea@gmail.com , http:/… [+21 chars]'}, {'source': {'id': None, 'name': 'Gamey.kr'}, 'author': '이정훈 기자', 'title': '[리뷰] 추리물을 좋아한다면 놓치지 말자…’초탐정사건부 레인코드’ - 게임와이', 'description': '스파이크 춘소프트가 출시한 ‘단간론파’ 시리즈는 지금도 추리 게임으로 자주 언급되곤 한다.이번에 닌텐도 스위치로 출시된 ‘초탐정사건부 레인코드’ 역시 제목에서 알 수 있듯 사건을 추리하며 진행하는 게임이다. 일부 탐정 게임들이 진지한 흐름을 보여준다면 이 게임은 ‘단간론파’처럼 서브컬쳐 느낌이 물씬 풍긴다. 이 게임은 어둡고 비만 내리는 다크 판타지스러운 카나이구를 주요 배경으로 한다. 주인공은 세계탐정기구에 합류한 견습탐정 유마. 그는 사신 사시닝과 함께 여…', 'url': 'http://www.gamey.kr/news/articleView.html?idxno=3008996', 'urlToImage': 'https://cdn.gamey.kr/news/thumbnail/202406/3008996_130810_1821_v150.jpg', 'publishedAt': '2024-06-30T07:24:21Z', 'content': '‘’ .\\r\\n ‘ ’ . ‘’ . . . .\\r\\n . .\\xa0\\r\\n , . , . , . , QTE, , .\\xa0\\r\\n 0 8 . . . . 2 4 .\\r\\n , . , . SSD . .\\r\\n 7 ‘ ’ , , PC . . .\\r\\n ‘’ ‘’ . , . .\\r\\n© (GameY)'}, {'source': {'id': None, 'name': 'Mk.co.kr'}, 'author': '박로사', 'title': '김무열♥윤승아, 워너비 부부… 화보 같은 이탈리아 여행 - 매일경제', 'description': '배우 김무열, 윤승아 부부의 이탈리아 여행 사진이 공개됐다. 윤승아는 지난 27일 자신의 인스타그램에 “이탈리아 여행 시작”이라는 글과 함께 사진들을 공개했다. 사진에는 이탈리아 여행을 즐기는 예쁜 부부의 모습이 담겼다. 화보 같은 두 사람의 모습이 감탄을 자아낸다. 부부는 길거리를 걷는가 하면 유명 명소를 방문하는 등 여유를 만끽하고 있어 훈훈함을 안긴다', 'url': 'https://www.mk.co.kr/news/hot-issues/11054758', 'urlToImage': 'https://wimg.mk.co.kr/news/cms/202406/30/news-p.v1.20240630.839902b30b134be99bb4d2761d8f5389_R.jpg', 'publishedAt': '2024-06-30T06:50:16Z', 'content': '()\\r\\n 190\\r\\n : 2009.11.30 / : 2009.11.30\\r\\n / :'}, {'source': {'id': None, 'name': 'Imbc.com'}, 'author': '나세웅', 'title': '조국혁신당 \"윤석열 탄핵 청원 70만 돌파, 이것이 민심이다\" - MBC 뉴스', 'description': '윤석열 대통령에 대한 탄핵소추안 발의를 촉구하는 국회 국민청원 참여자가 70만명을 돌파하자, 조국혁신당이 \"이것이 민심\"이라고 밝혔습니다. 조국혁신당은 오늘 수석대변인 명의 논평에...', 'url': 'https://imnews.imbc.com/news/2024/politics/article/6612731_36431.html', 'urlToImage': 'https://image.imnews.imbc.com/news/2024/politics/article/__icsFiles/afieldfile/2024/06/30/k240630-4.jpg', 'publishedAt': '2024-06-30T06:44:31Z', 'content': ''}, {'source': {'id': None, 'name': 'Imbc.com'}, 'author': '김민형', 'title': '당정, 저출생·고령화 컨트롤타워로 인구전략기획부 신설‥개정안 발의 예정 - MBC 뉴스', 'description': '당과 정부, 국민의힘이 저출생과 고령화를 위한 대응부처인 인구전략기획부를 신설하기 위해 정부조직법 등의 개정안을 발의하기로 했습니다. 국민의힘 곽규택 수석대변인은 오늘 고위당정협의...', 'url': 'https://imnews.imbc.com/news/2024/politics/article/6612730_36431.html', 'urlToImage': 'https://image.imnews.imbc.com/news/2024/politics/article/__icsFiles/afieldfile/2024/06/30/p240630-7.jpg', 'publishedAt': '2024-06-30T06:42:26Z', 'content': ''}, {'source': {'id': None, 'name': 'Hani.co.kr'}, 'author': '장필수', 'title': \"'8경기 연속 안타' 김하성, 시즌 12번째 멀티 히트 - 한겨레\", 'description': '샌디에이고 파드리스의 김하성이 8경기 연속 안타를 터트리며 팀 승리에 기여했다. 김하성은 30일(한국시각) 미국 매사추세츠주 보스턴의 펜웨이파크에서 열린 메이저리그 보스턴 레드삭스와의 방문 경기에 7번 타자 유격수로 나서 4타수 2안타 1볼넷 1득점을 올렸다. 22일', 'url': 'https://www.hani.co.kr/arti/sports/baseball/1147061.html', 'urlToImage': 'https://flexible.img.hani.co.kr/flexible/normal/900/600/imgdb/original/2024/0630/20240630501494.jpg', 'publishedAt': '2024-06-30T06:33:00Z', 'content': None}, {'source': {'id': 'google-news', 'name': 'Google News'}, 'author': '한국경제', 'title': \"美 대선 토론 바이든 참패에…유럽 동맹국들 '충격' - 한국경제\", 'description': None, 'url': 'https://news.google.com/rss/articles/CBMiLmh0dHBzOi8vd3d3Lmhhbmt5dW5nLmNvbS9hcnRpY2xlLzIwMjQwNjMwMTI5NGnSASpodHRwczovL3d3dy5oYW5reXVuZy5jb20vYW1wLzIwMjQwNjMwMTI5NGk?oc=5', 'urlToImage': None, 'publishedAt': '2024-06-30T06:15:27Z', 'content': None}, {'source': {'id': None, 'name': 'Hani.co.kr'}, 'author': '이지혜,김채운', 'title': \"터지면 열폭주 '리튬 배터리'…미국은 연기 감지 시스템 설치 규정 - 한겨레\", 'description': '화성 리튬 배터리 폭발 참사로 노동자 23명이 숨진 가운데 미국 등 선진국의 리튬 배터리 관리 매뉴얼에 관심이 쏠린다. 미국은 이미 리튬 배터리의 위험성을 인지해 2020년 처음 관련 지침을 세운 뒤 지난해 개정판도 내놨다. 일단 화재가 발생하면 폭발과 함께 대형 참사', 'url': 'https://www.hani.co.kr/arti/society/society_general/1147038.html', 'urlToImage': 'https://flexible.img.hani.co.kr/flexible/normal/800/432/imgdb/original/2024/0630/20240630500879.jpg', 'publishedAt': '2024-06-30T06:10:00Z', 'content': None}, {'source': {'id': None, 'name': 'Chosun.com'}, 'author': '조선비즈', 'title': '김히어라, 웨이브 단발로 러블리 매력..SNS 소통→복귀 예열 [Oh!쎈 이슈] - 조선비즈 - 조선비즈', 'description': '학폭 종료 김히어라, 웨이브 단발로 러블리 근황..SNS 소통→복귀 예열 Oh쎈 이슈', 'url': 'https://biz.chosun.com/entertainment/enter_general/2024/06/30/MVQWF4R77KIEACUVYKYV2YAELY/', 'urlToImage': 'https://biz.chosun.com/resizer/oUUTIy4s1IYsDysIASc5bt24bCw=/530x278/smart/cloudfront-ap-northeast-1.images.arcpublishing.com/chosunbiz/GTF2N5TZBIXK4GLFT5EMZTHVKE.png', 'publishedAt': '2024-06-30T06:01:00Z', 'content': None}, {'source': {'id': None, 'name': 'Imbc.com'}, 'author': '나세웅', 'title': '\\'윤석열 이태원 참사 발언\\' 박홍근 메모 원문 \"좌파 언론이‥\" [국회M부스] - MBC 뉴스', 'description': '\"윤석열, 이태원 참사 특정 세력이 조작 가능성 말해\" 윤석열 대통령이 159명이 희생된 10.29 이태원 참사가 특정 세력에 의해 조작됐을 가능성이 있다고 말했다는 증언이 나오면...', 'url': 'https://imnews.imbc.com/news/2024/politics/article/6612724_36431.html', 'urlToImage': 'https://image.imnews.imbc.com/news/2024/politics/article/__icsFiles/afieldfile/2024/06/30/p240630-2.jpg', 'publishedAt': '2024-06-30T05:41:22Z', 'content': ''}, {'source': {'id': None, 'name': 'Businesspost.co.kr'}, 'author': None, 'title': '부동산 PF 신규 자금 지원 금융사에 추가 인센티브, 자산건전성 별도 분류 - 비즈니스포스트', 'description': None, 'url': 'https://www.businesspost.co.kr/BP?command=article_view&amp;num=357261', 'urlToImage': None, 'publishedAt': '2024-06-30T05:27:30Z', 'content': None}, {'source': {'id': None, 'name': 'Hani.co.kr'}, 'author': '홍석재', 'title': \"이란 대선 '개혁파 후보' 1위 돌풍…과반 득표자 없어 결선투표 - 한겨레\", 'description': '이란 대통령 보궐선거에서 유일한 개혁파 후보가 득표율 1위를 차지하는 이변이 일어났으나 과반 득표에는 미치지 못했다. 19년 만의 결선 투표가 오는 5일 열린다. 이란 관영 이르나(IRNA) 통신은 29일 전날 열린 대선에서 개혁파로 꼽히는 마수드 페제시키안 후보가 4', 'url': 'https://www.hani.co.kr/arti/international/international_general/1147033.html', 'urlToImage': 'https://flexible.img.hani.co.kr/flexible/normal/800/533/imgdb/original/2024/0630/20240630500832.jpg', 'publishedAt': '2024-06-30T04:59:00Z', 'content': None}, {'source': {'id': None, 'name': 'Yna.co.kr'}, 'author': '조성미', 'title': '\"부산에 모이는 OTT 별들\"…2024 국제 OTT 시상식 후보 공모 - 연합뉴스', 'description': \"(서울=연합뉴스) 조성미 기자 = 과학기술정보통신부는 10월 부산국제영화제(BIFF) 기간 열리는 '2024 국제 OTT(온라인 동영상 서비스)...\", 'url': 'https://www.yna.co.kr/view/AKR20240630024700017', 'urlToImage': 'https://img8.yna.co.kr/photo/yna/YH/2023/10/08/PYH2023100813430001300_P4.jpg', 'publishedAt': '2024-06-30T04:51:47Z', 'content': \"(=) = 10 (BIFF) '2024 OTT( ) ' 30 .\\r\\n '2024 OTT ' OTT 10 6 .\\r\\n ' ' .\\r\\n' VFX', ' OTT ' 11 (OST) .\\r\\n (AI) '', '', '' .\\r\\n ' OTT ' OTT . OTT ' OTT ' .\\r\\n OTT(=) = 28 8 '2023 &amp; OTT' . 2023.10.8 mjkang@… [+72 chars]\"}, {'source': {'id': None, 'name': 'Mdtoday.co.kr'}, 'author': '이승재', 'title': '특정 합성 펩타이드, 알츠하이머병 증상 완화에 도움 - 메디컬투데이', 'description': '[메디컬투데이=이승재 기자] 특정 합성 펩타이드가 알츠하이머병 증상 완화에 도움이 된다는 연구 결과가 나왔다.합성 펩타이드 ‘PHDP5’가 뇌에 타우가 축적된 생쥐의 기억력과 인지 능력에 미치는 영향을 조사한 생쥐 실험 연구 결과가 ‘뇌 연구 저널(Brain Resea ...', 'url': 'https://mdtoday.co.kr/news/view/1065576336910306', 'urlToImage': 'https://mdtoday.co.kr/news/data/20240629/p1065576336910306_350_thum.jpg', 'publishedAt': '2024-06-30T04:49:50Z', 'content': '[= ] .\\r\\nPHDP5 (Brain Research) .\\r\\n. 2050 15000 .\\r\\n(amyloid beta) (tau) . , , .\\r\\n(aducanumab) (lecanemab) .\\r\\nPHDP5 (dynamin) . (microtubule) (synapse) . , .\\r\\nPHDP5 .\\r\\nMWM(Morris Water Maze) . MWM , .\\r… [+89 chars]'}, {'source': {'id': 'google-news', 'name': 'Google News'}, 'author': None, 'title': '갑작스러운 정해성 위원장 사퇴에도…KFA “열흘 내 새 감독 뽑는다” - 동아일보', 'description': None, 'url': 'https://admin.google.com/ServiceNotAllowed', 'urlToImage': None, 'publishedAt': '2024-06-30T04:48:00Z', 'content': 'We are sorry, but you do not have access to this service. Some reasons why you may not have access:\\r\\n<ul><li>Your account is managed by an organization that has this service turned off for its users.… [+306 chars]'}, {'source': {'id': None, 'name': 'Hankyung.com'}, 'author': '김예랑', 'title': \"허웅부터 이해인·손웅정까지…스포츠계 사생활 논란 '시끌' [이슈+] - 한국경제\", 'description': \"허웅부터 이해인·손웅정까지…스포츠계 사생활 논란 '시끌' [이슈+], 김예랑 기자, 사회\", 'url': 'https://www.hankyung.com/article/2024063010567', 'urlToImage': 'https://img.hankyung.com/photo/202406/01.37196582.1.jpg', 'publishedAt': '2024-06-30T04:22:13Z', 'content': '\" \"MZ \\' \\' \\r\\n\\'()\\' . \\' \\' . .\\xa0 29 17 . \\' \\' \" \" . \" , 4 \", \" . \" .\\' \\' \\' \\' \\'\\' . 2010 \\'\\' , \\' \\', \\'\\' . . . . . . \" \", \" \" .\\xa0MZ . \\'\\' . \" \" . , . \\' \\' 31 . . ( ) , . , (THAAD·) (· ), 19 . MZ(+Z) . 2020 14 , (50… [+38 chars]'}]}\n"
     ]
    }
   ],
   "source": [
    "import requests\n",
    "from config import config_newsapi_key\n",
    "\n",
    "url = f'https://newsapi.org/v2/top-headlines?country=kr&apiKey={config_newsapi_key}'\n",
    "response = requests.get(url)\n",
    "print(response.json())"
   ]
  },
  {
   "cell_type": "code",
   "execution_count": 3,
   "metadata": {},
   "outputs": [
    {
     "name": "stdout",
     "output_type": "stream",
     "text": [
      "{'status': 'error', 'code': 'apiKeyInvalid', 'message': 'Your API key is invalid or incorrect. Check your key, or go to https://newsapi.org to create a free API key.'}\n"
     ]
    }
   ],
   "source": [
    "url = ('https://newsapi.org/v2/everything?'\n",
    "       'q=경제&'\n",
    "       'language=ko&'\n",
    "       f'apiKey={config_newsapi_key}')\n",
    "\n",
    "response = requests.get(url)\n",
    "print(response.json())"
   ]
  },
  {
   "cell_type": "code",
   "execution_count": null,
   "metadata": {},
   "outputs": [],
   "source": []
  }
 ],
 "metadata": {
  "kernelspec": {
   "display_name": "Python 3.11.2 64-bit",
   "language": "python",
   "name": "python3"
  },
  "language_info": {
   "codemirror_mode": {
    "name": "ipython",
    "version": 3
   },
   "file_extension": ".py",
   "mimetype": "text/x-python",
   "name": "python",
   "nbconvert_exporter": "python",
   "pygments_lexer": "ipython3",
   "version": "3.11.2"
  },
  "orig_nbformat": 4,
  "vscode": {
   "interpreter": {
    "hash": "aee8b7b246df8f9039afb4144a1f6fd8d2ca17a180786b69acc140d282b71a49"
   }
  }
 },
 "nbformat": 4,
 "nbformat_minor": 2
}
